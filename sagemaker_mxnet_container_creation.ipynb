{
 "cells": [
  {
   "cell_type": "raw",
   "metadata": {},
   "source": [
    "## Introduction\n",
    "\n",
    "This notebook will show how to create docker containers for MxNet to use them with Sagemaker.\n",
    "\n",
    "The notebook will use an existing example located at https://github.com/aws/sagemaker-mxnet-containers\n",
    "\n",
    "The example has been modified to stream line the creating of the containers and pushing them into ECR as docker images.\n"
   ]
  },
  {
   "cell_type": "raw",
   "metadata": {},
   "source": [
    "Please execute the following block to create docker images for MxNet versions below 1.1.0. For creating docker images for versions 1.1.0 and above please skip to the next block. "
   ]
  },
  {
   "cell_type": "code",
   "execution_count": null,
   "metadata": {},
   "outputs": [],
   "source": [
    "%%sh\n",
    "\n",
    "# The Version of MxNet for the docker\n",
    "mxnet_version=\"0.12.1\"\n",
    "\n",
    "#Choose a platform. cpu or gpu\n",
    "mxnet_platform=\"cpu\"\n",
    "\n",
    "#Choose python version py2 or py3\n",
    "mxnet_python=\"py2\" \n",
    "\n",
    "# Create the SageMaker MXNet Container Python package.\n",
    "python setup.py sdist\n",
    "\n",
    "#. Copy your Python package to \"final\" Dockerfile directory that you are building.\n",
    "cp dist/sagemaker_mxnet_container-1.0.0.tar.gz docker/${mxnet_version}/final/${mxnet_python}\n",
    "\n",
    "\n",
    "\n",
    "#Build base images first\n",
    "cd docker/${mxnet_version}/base\n",
    "docker build -t mxnet-base:${mxnet_version}-${mxnet_platform}-${mxnet_python} -f Dockerfile.${mxnet_platform} .\n",
    "\n",
    "#Build base final image\n",
    "cd ..\n",
    "cd final/${mxnet_python}\n",
    "docker build -t preprod-mxnet:${mxnet_version}-${mxnet_platform}-${mxnet_python} -f Dockerfile.${mxnet_platform} .\n",
    "\n",
    "    \n",
    "#Setting up to call ECR\n",
    "account=$(aws sts get-caller-identity --query Account --output text)\n",
    "\n",
    "# Get the region defined in the current configuration (default to us-east-1 if none defined)\n",
    "region=$(aws configure get region)\n",
    "region=${region:-us-east-1}\n",
    "\n",
    "fullname=\"${account}.dkr.ecr.${region}.amazonaws.com/preprod-mxnet:${mxnet_version}-${mxnet_platform}-${mxnet_python}\"\n",
    "\n",
    "# If the repository doesn't exist in ECR, create it.\n",
    "\n",
    "aws ecr describe-repositories --repository-names \"preprod-mxnet\" > /dev/null 2>&1\n",
    "\n",
    "if [ $? -ne 0 ]\n",
    "then\n",
    "    aws ecr create-repository --repository-name \"preprod-mxnet\" > /dev/null\n",
    "fi\n",
    "\n",
    "# Get the login command from ECR and execute it directly\n",
    "$(aws ecr get-login --region ${region} --no-include-email)\n",
    "\n",
    "\n",
    "# Build the docker image locally with the image name and then push it to ECR\n",
    "# with the full name.\n",
    "docker tag \"preprod-mxnet:${mxnet_version}-${mxnet_platform}-${mxnet_python}\" ${fullname}\n",
    "docker push ${fullname}"
   ]
  },
  {
   "cell_type": "raw",
   "metadata": {},
   "source": [
    "The following block is a step by step process to create Docker container for MxNet 1.1.0 and above. Although in this example we have only 1.1.0 available."
   ]
  },
  {
   "cell_type": "code",
   "execution_count": null,
   "metadata": {},
   "outputs": [],
   "source": [
    "%%sh\n",
    "\n",
    "# The Version of MxNet for the docker\n",
    "mxnet_version=\"1.1.0\"\n",
    "\n",
    "#Choose a platform. cpu or gpu\n",
    "mxnet_platform=\"cpu\"\n",
    "\n",
    "#Choose python version py2 or py3\n",
    "mxnet_python=\"py2\" \n",
    "\n",
    "# Create the SageMaker MXNet Container Python package.\n",
    "python setup.py sdist\n",
    "\n",
    "#. Copy your Python package to \"final\" Dockerfile directory that you are building.\n",
    "cp dist/sagemaker_mxnet_container-1.0.0.tar.gz docker/${mxnet_version}/final\n",
    "\n",
    "cd docker/${mxnet_version}/final\n",
    "docker build -t preprod-mxnet:${mxnet_version}-${mxnet_platform}-${mxnet_python} --build-arg py_version=2 --build-arg framework_installable=mxnet-${mxnet_version}-py2.py3-none-manylinux1_x86_64.whl -f Dockerfile.${mxnet_platform} .\n",
    "    \n",
    "#Setting up to call ECR\n",
    "account=$(aws sts get-caller-identity --query Account --output text)\n",
    "\n",
    "# Get the region defined in the current configuration (default to us-east-1 if none defined)\n",
    "region=$(aws configure get region)\n",
    "region=${region:-us-east-1}\n",
    "\n",
    "fullname=\"${account}.dkr.ecr.${region}.amazonaws.com/preprod-mxnet:${mxnet_version}-${mxnet_platform}-${mxnet_python}\"\n",
    "\n",
    "# If the repository doesn't exist in ECR, create it.\n",
    "\n",
    "aws ecr describe-repositories --repository-names \"preprod-mxnet\" > /dev/null 2>&1\n",
    "\n",
    "if [ $? -ne 0 ]\n",
    "then\n",
    "    aws ecr create-repository --repository-name \"preprod-mxnet\" > /dev/null\n",
    "fi\n",
    "\n",
    "# Get the login command from ECR and execute it directly\n",
    "$(aws ecr get-login --region ${region} --no-include-email)\n",
    "\n",
    "\n",
    "# Build the docker image locally with the image name and then push it to ECR\n",
    "# with the full name.\n",
    "docker tag \"preprod-mxnet:${mxnet_version}-${mxnet_platform}-${mxnet_python}\" ${fullname}\n",
    "docker push ${fullname}"
   ]
  },
  {
   "cell_type": "code",
   "execution_count": null,
   "metadata": {},
   "outputs": [],
   "source": []
  }
 ],
 "metadata": {
  "kernelspec": {
   "display_name": "conda_mxnet_p27",
   "language": "python",
   "name": "conda_mxnet_p27"
  },
  "language_info": {
   "codemirror_mode": {
    "name": "ipython",
    "version": 2
   },
   "file_extension": ".py",
   "mimetype": "text/x-python",
   "name": "python",
   "nbconvert_exporter": "python",
   "pygments_lexer": "ipython2",
   "version": "2.7.14"
  }
 },
 "nbformat": 4,
 "nbformat_minor": 2
}
